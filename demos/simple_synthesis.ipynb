{
 "metadata": {
  "name": "",
  "signature": "sha256:ce3c91ad126f89380e5104f03726d9778a1fdd0fc068b0c7d4ddb6a7cd387b19"
 },
 "nbformat": 3,
 "nbformat_minor": 0,
 "worksheets": [
  {
   "cells": [
    {
     "cell_type": "code",
     "collapsed": false,
     "input": [
      "from synthpop.recipes.starter import Starter\n",
      "from synthpop.synthesizer import synthesize_all, enable_logging \n",
      "import os\n",
      "import pandas as pd"
     ],
     "language": "python",
     "metadata": {},
     "outputs": [],
     "prompt_number": 1
    },
    {
     "cell_type": "code",
     "collapsed": false,
     "input": [
      "starter = Starter(os.environ[\"CENSUS\"], \"CA\", \"Santa Clara County\")"
     ],
     "language": "python",
     "metadata": {},
     "outputs": [],
     "prompt_number": 2
    },
    {
     "cell_type": "code",
     "collapsed": false,
     "input": [
      "ind = pd.Series([\"06\", \"085\", \"508203\", \"3\"], index=[\"state\", \"county\", \"tract\", \"block group\"])"
     ],
     "language": "python",
     "metadata": {},
     "outputs": []
    },
    {
     "cell_type": "code",
     "collapsed": false,
     "input": [
      "%time households, persons, fit = synthesize_all(starter, indexes=[ind])"
     ],
     "language": "python",
     "metadata": {},
     "outputs": [
      {
       "output_type": "stream",
       "stream": "stdout",
       "text": [
        "Synthesizing at geog level: 'block_group' (number of geographies is 1075)\n",
        "Synthesizing geog id:\n",
        "state              06\n",
        "county            085\n",
        "tract          508203\n",
        "block group         3\n",
        "dtype: object\n",
        "Drawing 884 households"
       ]
      },
      {
       "output_type": "stream",
       "stream": "stdout",
       "text": [
        "\n",
        "CPU times: user 1.79 s, sys: 28.5 ms, total: 1.82 s"
       ]
      },
      {
       "output_type": "stream",
       "stream": "stdout",
       "text": [
        "\n",
        "Wall time: 1.83 s\n"
       ]
      }
     ],
     "prompt_number": 12
    },
    {
     "cell_type": "code",
     "collapsed": false,
     "input": [
      "households.head(3)"
     ],
     "language": "python",
     "metadata": {},
     "outputs": [
      {
       "html": [
        "<div style=\"max-height:1000px;max-width:1500px;overflow:auto;\">\n",
        "<table border=\"1\" class=\"dataframe\">\n",
        "  <thead>\n",
        "    <tr style=\"text-align: right;\">\n",
        "      <th></th>\n",
        "      <th>serialno</th>\n",
        "      <th>RT</th>\n",
        "      <th>DIVISION</th>\n",
        "      <th>PUMA00</th>\n",
        "      <th>PUMA10</th>\n",
        "      <th>REGION</th>\n",
        "      <th>ST</th>\n",
        "      <th>ADJHSG</th>\n",
        "      <th>ADJINC</th>\n",
        "      <th>WGTP</th>\n",
        "      <th>...</th>\n",
        "      <th>WGTP76</th>\n",
        "      <th>WGTP77</th>\n",
        "      <th>WGTP78</th>\n",
        "      <th>WGTP79</th>\n",
        "      <th>WGTP80</th>\n",
        "      <th>cars</th>\n",
        "      <th>workers</th>\n",
        "      <th>children</th>\n",
        "      <th>income</th>\n",
        "      <th>cat_id</th>\n",
        "    </tr>\n",
        "  </thead>\n",
        "  <tbody>\n",
        "    <tr>\n",
        "      <th>0</th>\n",
        "      <td> 2012000030460</td>\n",
        "      <td> H</td>\n",
        "      <td> 9</td>\n",
        "      <td>-9</td>\n",
        "      <td> 08502</td>\n",
        "      <td> 4</td>\n",
        "      <td> 06</td>\n",
        "      <td> 1000000</td>\n",
        "      <td> 1010207</td>\n",
        "      <td> 18</td>\n",
        "      <td>...</td>\n",
        "      <td>  5</td>\n",
        "      <td> 27</td>\n",
        "      <td> 21</td>\n",
        "      <td> 16</td>\n",
        "      <td>  6</td>\n",
        "      <td> two or more</td>\n",
        "      <td> one</td>\n",
        "      <td> yes</td>\n",
        "      <td>      gt100</td>\n",
        "      <td> 45</td>\n",
        "    </tr>\n",
        "    <tr>\n",
        "      <th>1</th>\n",
        "      <td> 2012000776236</td>\n",
        "      <td> H</td>\n",
        "      <td> 9</td>\n",
        "      <td>-9</td>\n",
        "      <td> 08502</td>\n",
        "      <td> 4</td>\n",
        "      <td> 06</td>\n",
        "      <td> 1000000</td>\n",
        "      <td> 1010207</td>\n",
        "      <td> 17</td>\n",
        "      <td>...</td>\n",
        "      <td> 33</td>\n",
        "      <td> 15</td>\n",
        "      <td> 34</td>\n",
        "      <td> 30</td>\n",
        "      <td> 16</td>\n",
        "      <td>         one</td>\n",
        "      <td> one</td>\n",
        "      <td> yes</td>\n",
        "      <td> gt35-lt100</td>\n",
        "      <td> 28</td>\n",
        "    </tr>\n",
        "    <tr>\n",
        "      <th>2</th>\n",
        "      <td> 2012001433300</td>\n",
        "      <td> H</td>\n",
        "      <td> 9</td>\n",
        "      <td>-9</td>\n",
        "      <td> 08502</td>\n",
        "      <td> 4</td>\n",
        "      <td> 06</td>\n",
        "      <td> 1000000</td>\n",
        "      <td> 1010207</td>\n",
        "      <td> 22</td>\n",
        "      <td>...</td>\n",
        "      <td>  6</td>\n",
        "      <td> 21</td>\n",
        "      <td> 24</td>\n",
        "      <td> 10</td>\n",
        "      <td> 35</td>\n",
        "      <td>         one</td>\n",
        "      <td> one</td>\n",
        "      <td> yes</td>\n",
        "      <td>      gt100</td>\n",
        "      <td> 27</td>\n",
        "    </tr>\n",
        "  </tbody>\n",
        "</table>\n",
        "<p>3 rows \u00d7 208 columns</p>\n",
        "</div>"
       ],
       "metadata": {},
       "output_type": "pyout",
       "prompt_number": 7,
       "text": [
        "        serialno RT  DIVISION  PUMA00 PUMA10  REGION  ST   ADJHSG   ADJINC  \\\n",
        "0  2012000030460  H         9      -9  08502       4  06  1000000  1010207   \n",
        "1  2012000776236  H         9      -9  08502       4  06  1000000  1010207   \n",
        "2  2012001433300  H         9      -9  08502       4  06  1000000  1010207   \n",
        "\n",
        "   WGTP   ...    WGTP76  WGTP77  WGTP78  WGTP79  WGTP80         cars  workers  \\\n",
        "0    18   ...         5      27      21      16       6  two or more      one   \n",
        "1    17   ...        33      15      34      30      16          one      one   \n",
        "2    22   ...         6      21      24      10      35          one      one   \n",
        "\n",
        "   children      income  cat_id  \n",
        "0       yes       gt100      45  \n",
        "1       yes  gt35-lt100      28  \n",
        "2       yes       gt100      27  \n",
        "\n",
        "[3 rows x 208 columns]"
       ]
      }
     ],
     "prompt_number": 7
    },
    {
     "cell_type": "code",
     "collapsed": false,
     "input": [
      "persons.head(3)"
     ],
     "language": "python",
     "metadata": {},
     "outputs": [
      {
       "html": [
        "<div style=\"max-height:1000px;max-width:1500px;overflow:auto;\">\n",
        "<table border=\"1\" class=\"dataframe\">\n",
        "  <thead>\n",
        "    <tr style=\"text-align: right;\">\n",
        "      <th></th>\n",
        "      <th>serialno</th>\n",
        "      <th>RT</th>\n",
        "      <th>SPORDER</th>\n",
        "      <th>PUMA00</th>\n",
        "      <th>PUMA10</th>\n",
        "      <th>ST</th>\n",
        "      <th>ADJINC</th>\n",
        "      <th>PWGTP</th>\n",
        "      <th>AGEP</th>\n",
        "      <th>CIT</th>\n",
        "      <th>...</th>\n",
        "      <th>PWGTP76</th>\n",
        "      <th>PWGTP77</th>\n",
        "      <th>PWGTP78</th>\n",
        "      <th>PWGTP79</th>\n",
        "      <th>PWGTP80</th>\n",
        "      <th>age</th>\n",
        "      <th>race</th>\n",
        "      <th>sex</th>\n",
        "      <th>cat_id</th>\n",
        "      <th>hh_id</th>\n",
        "    </tr>\n",
        "  </thead>\n",
        "  <tbody>\n",
        "    <tr>\n",
        "      <th>0</th>\n",
        "      <td> 2012000030460</td>\n",
        "      <td> P</td>\n",
        "      <td> 1</td>\n",
        "      <td>-9</td>\n",
        "      <td> 08502</td>\n",
        "      <td> 06</td>\n",
        "      <td> 1010207</td>\n",
        "      <td> 18</td>\n",
        "      <td> 46</td>\n",
        "      <td> 4</td>\n",
        "      <td>...</td>\n",
        "      <td> 5</td>\n",
        "      <td> 28</td>\n",
        "      <td> 21</td>\n",
        "      <td> 16</td>\n",
        "      <td> 6</td>\n",
        "      <td> 35 to 60</td>\n",
        "      <td> asian</td>\n",
        "      <td> female</td>\n",
        "      <td> 16</td>\n",
        "      <td>  0</td>\n",
        "    </tr>\n",
        "    <tr>\n",
        "      <th>1</th>\n",
        "      <td> 2012000030460</td>\n",
        "      <td> P</td>\n",
        "      <td> 1</td>\n",
        "      <td>-9</td>\n",
        "      <td> 08502</td>\n",
        "      <td> 06</td>\n",
        "      <td> 1010207</td>\n",
        "      <td> 18</td>\n",
        "      <td> 46</td>\n",
        "      <td> 4</td>\n",
        "      <td>...</td>\n",
        "      <td> 5</td>\n",
        "      <td> 28</td>\n",
        "      <td> 21</td>\n",
        "      <td> 16</td>\n",
        "      <td> 6</td>\n",
        "      <td> 35 to 60</td>\n",
        "      <td> asian</td>\n",
        "      <td> female</td>\n",
        "      <td> 16</td>\n",
        "      <td>  6</td>\n",
        "    </tr>\n",
        "    <tr>\n",
        "      <th>2</th>\n",
        "      <td> 2012000030460</td>\n",
        "      <td> P</td>\n",
        "      <td> 1</td>\n",
        "      <td>-9</td>\n",
        "      <td> 08502</td>\n",
        "      <td> 06</td>\n",
        "      <td> 1010207</td>\n",
        "      <td> 18</td>\n",
        "      <td> 46</td>\n",
        "      <td> 4</td>\n",
        "      <td>...</td>\n",
        "      <td> 5</td>\n",
        "      <td> 28</td>\n",
        "      <td> 21</td>\n",
        "      <td> 16</td>\n",
        "      <td> 6</td>\n",
        "      <td> 35 to 60</td>\n",
        "      <td> asian</td>\n",
        "      <td> female</td>\n",
        "      <td> 16</td>\n",
        "      <td> 20</td>\n",
        "    </tr>\n",
        "  </tbody>\n",
        "</table>\n",
        "<p>3 rows \u00d7 295 columns</p>\n",
        "</div>"
       ],
       "metadata": {},
       "output_type": "pyout",
       "prompt_number": 8,
       "text": [
        "        serialno RT  SPORDER  PUMA00 PUMA10  ST   ADJINC  PWGTP  AGEP  CIT  \\\n",
        "0  2012000030460  P        1      -9  08502  06  1010207     18    46    4   \n",
        "1  2012000030460  P        1      -9  08502  06  1010207     18    46    4   \n",
        "2  2012000030460  P        1      -9  08502  06  1010207     18    46    4   \n",
        "\n",
        "   ...    PWGTP76  PWGTP77  PWGTP78  PWGTP79  PWGTP80       age   race  \\\n",
        "0  ...          5       28       21       16        6  35 to 60  asian   \n",
        "1  ...          5       28       21       16        6  35 to 60  asian   \n",
        "2  ...          5       28       21       16        6  35 to 60  asian   \n",
        "\n",
        "      sex  cat_id  hh_id  \n",
        "0  female      16      0  \n",
        "1  female      16      6  \n",
        "2  female      16     20  \n",
        "\n",
        "[3 rows x 295 columns]"
       ]
      }
     ],
     "prompt_number": 8
    },
    {
     "cell_type": "code",
     "collapsed": false,
     "input": [
      "fit"
     ],
     "language": "python",
     "metadata": {},
     "outputs": [
      {
       "metadata": {},
       "output_type": "pyout",
       "prompt_number": 9,
       "text": [
        "{BlockGroupID(state='06', county='085', tract='508203', block_group='3'): FitQuality(household_chisq=1033957.2104660122, household_p=0.0, people_chisq=86.359051234185131, people_p=4.0257811248627773e-07)}"
       ]
      }
     ],
     "prompt_number": 9
    },
    {
     "cell_type": "code",
     "collapsed": false,
     "input": [
      "starter = Starter(os.environ[\"CENSUS\"], \"MD\", \"Montgomery County\")"
     ],
     "language": "python",
     "metadata": {},
     "outputs": [],
     "prompt_number": 13
    },
    {
     "cell_type": "code",
     "collapsed": false,
     "input": [
      "ind = pd.Series([\"24\", \"031\", \"700101\", \"1\"], index=[\"state\", \"county\", \"tract\", \"block group\"])"
     ],
     "language": "python",
     "metadata": {},
     "outputs": [],
     "prompt_number": 15
    },
    {
     "cell_type": "code",
     "collapsed": false,
     "input": [
      "%time households, persons, fit = synthesize_all(starter, indexes=[ind])"
     ],
     "language": "python",
     "metadata": {},
     "outputs": [
      {
       "output_type": "stream",
       "stream": "stdout",
       "text": [
        "Synthesizing at geog level: 'block_group' (number of geographies is 614)\n",
        "Synthesizing geog id:\n",
        "state              24\n",
        "county            031\n",
        "tract          700101\n",
        "block group         1\n",
        "dtype: object\n",
        "Drawing 548 households"
       ]
      },
      {
       "output_type": "stream",
       "stream": "stdout",
       "text": [
        "\n",
        "CPU times: user 873 ms, sys: 39.7 ms, total: 913 ms"
       ]
      },
      {
       "output_type": "stream",
       "stream": "stdout",
       "text": [
        "\n",
        "Wall time: 929 ms\n"
       ]
      }
     ],
     "prompt_number": 17
    },
    {
     "cell_type": "code",
     "collapsed": false,
     "input": [],
     "language": "python",
     "metadata": {},
     "outputs": []
    }
   ],
   "metadata": {}
  }
 ]
}